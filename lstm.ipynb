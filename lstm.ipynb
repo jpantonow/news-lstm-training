{
 "cells": [
  {
   "cell_type": "code",
   "execution_count": 1,
   "id": "72f677ea-5278-4453-991f-98e29b6614b6",
   "metadata": {},
   "outputs": [],
   "source": [
    "import pandas as pd"
   ]
  },
  {
   "cell_type": "code",
   "execution_count": 2,
   "id": "b9b7d314-8241-46be-a948-cc1b67b4d822",
   "metadata": {},
   "outputs": [],
   "source": [
    "df_ = pd.read_json('news.json')"
   ]
  },
  {
   "cell_type": "code",
   "execution_count": 3,
   "id": "118ed31d-c2e8-4a34-928c-f88a6a368599",
   "metadata": {},
   "outputs": [],
   "source": [
    "df = df_[['title','related']]"
   ]
  },
  {
   "cell_type": "code",
   "execution_count": 4,
   "id": "7dc87c16-b51d-4a1a-a5fb-e757a7a683dc",
   "metadata": {},
   "outputs": [
    {
     "data": {
      "text/html": [
       "<div>\n",
       "<style scoped>\n",
       "    .dataframe tbody tr th:only-of-type {\n",
       "        vertical-align: middle;\n",
       "    }\n",
       "\n",
       "    .dataframe tbody tr th {\n",
       "        vertical-align: top;\n",
       "    }\n",
       "\n",
       "    .dataframe thead th {\n",
       "        text-align: right;\n",
       "    }\n",
       "</style>\n",
       "<table border=\"1\" class=\"dataframe\">\n",
       "  <thead>\n",
       "    <tr style=\"text-align: right;\">\n",
       "      <th></th>\n",
       "      <th>title</th>\n",
       "      <th>related</th>\n",
       "    </tr>\n",
       "  </thead>\n",
       "  <tbody>\n",
       "    <tr>\n",
       "      <th>0</th>\n",
       "      <td>Corinthians se atrapalha em diagnóstico e tent...</td>\n",
       "      <td>no</td>\n",
       "    </tr>\n",
       "    <tr>\n",
       "      <th>1</th>\n",
       "      <td>Cidades da região recebem doses que serão usad...</td>\n",
       "      <td>yes</td>\n",
       "    </tr>\n",
       "    <tr>\n",
       "      <th>2</th>\n",
       "      <td>Santa Lúcia confirma caso de raiva bovina</td>\n",
       "      <td>yes</td>\n",
       "    </tr>\n",
       "    <tr>\n",
       "      <th>3</th>\n",
       "      <td>Vacina antirrábica é aplicada com agendamento ...</td>\n",
       "      <td>yes</td>\n",
       "    </tr>\n",
       "    <tr>\n",
       "      <th>4</th>\n",
       "      <td>Divertida Mente 2: Vá da Raiva à Alegria com o...</td>\n",
       "      <td>no</td>\n",
       "    </tr>\n",
       "  </tbody>\n",
       "</table>\n",
       "</div>"
      ],
      "text/plain": [
       "                                               title related\n",
       "0  Corinthians se atrapalha em diagnóstico e tent...      no\n",
       "1  Cidades da região recebem doses que serão usad...     yes\n",
       "2          Santa Lúcia confirma caso de raiva bovina     yes\n",
       "3  Vacina antirrábica é aplicada com agendamento ...     yes\n",
       "4  Divertida Mente 2: Vá da Raiva à Alegria com o...      no"
      ]
     },
     "execution_count": 4,
     "metadata": {},
     "output_type": "execute_result"
    }
   ],
   "source": [
    "df.head()"
   ]
  },
  {
   "cell_type": "code",
   "execution_count": 5,
   "id": "e5275897-6946-4bd8-8e64-7bda4d15a34f",
   "metadata": {},
   "outputs": [
    {
     "data": {
      "text/html": [
       "<div>\n",
       "<style scoped>\n",
       "    .dataframe tbody tr th:only-of-type {\n",
       "        vertical-align: middle;\n",
       "    }\n",
       "\n",
       "    .dataframe tbody tr th {\n",
       "        vertical-align: top;\n",
       "    }\n",
       "\n",
       "    .dataframe thead th {\n",
       "        text-align: right;\n",
       "    }\n",
       "</style>\n",
       "<table border=\"1\" class=\"dataframe\">\n",
       "  <thead>\n",
       "    <tr style=\"text-align: right;\">\n",
       "      <th></th>\n",
       "      <th>title</th>\n",
       "      <th>related</th>\n",
       "    </tr>\n",
       "  </thead>\n",
       "  <tbody>\n",
       "    <tr>\n",
       "      <th>95</th>\n",
       "      <td>VACINAÇÃO CONTRA RAIVA É REALIZADA NO SÁBADO N...</td>\n",
       "      <td>yes</td>\n",
       "    </tr>\n",
       "    <tr>\n",
       "      <th>96</th>\n",
       "      <td>Morcegos infectados com raiva são encontrados ...</td>\n",
       "      <td>yes</td>\n",
       "    </tr>\n",
       "    <tr>\n",
       "      <th>97</th>\n",
       "      <td>Prefeitura de Montes Claros faz bloqueio contr...</td>\n",
       "      <td>yes</td>\n",
       "    </tr>\n",
       "    <tr>\n",
       "      <th>98</th>\n",
       "      <td>Nissan Sentra 2025 foi renovado e mata de raiv...</td>\n",
       "      <td>no</td>\n",
       "    </tr>\n",
       "    <tr>\n",
       "      <th>99</th>\n",
       "      <td>Voluntários de resgate ou de abrigos de animai...</td>\n",
       "      <td>yes</td>\n",
       "    </tr>\n",
       "  </tbody>\n",
       "</table>\n",
       "</div>"
      ],
      "text/plain": [
       "                                                title related\n",
       "95  VACINAÇÃO CONTRA RAIVA É REALIZADA NO SÁBADO N...     yes\n",
       "96  Morcegos infectados com raiva são encontrados ...     yes\n",
       "97  Prefeitura de Montes Claros faz bloqueio contr...     yes\n",
       "98  Nissan Sentra 2025 foi renovado e mata de raiv...      no\n",
       "99  Voluntários de resgate ou de abrigos de animai...     yes"
      ]
     },
     "execution_count": 5,
     "metadata": {},
     "output_type": "execute_result"
    }
   ],
   "source": [
    "df.tail()"
   ]
  },
  {
   "cell_type": "code",
   "execution_count": 6,
   "id": "57c02e44-7e4c-4d09-936d-e63966d597f9",
   "metadata": {},
   "outputs": [
    {
     "name": "stderr",
     "output_type": "stream",
     "text": [
      "/tmp/ipykernel_870141/2043172176.py:1: SettingWithCopyWarning: \n",
      "A value is trying to be set on a copy of a slice from a DataFrame.\n",
      "Try using .loc[row_indexer,col_indexer] = value instead\n",
      "\n",
      "See the caveats in the documentation: https://pandas.pydata.org/pandas-docs/stable/user_guide/indexing.html#returning-a-view-versus-a-copy\n",
      "  df['out'] = df['related'].map({'yes':1,'no':0})\n"
     ]
    }
   ],
   "source": [
    "df['out'] = df['related'].map({'yes':1,'no':0})"
   ]
  },
  {
   "cell_type": "code",
   "execution_count": 7,
   "id": "bf6c72cc-588f-4b30-97d7-257959a6bd30",
   "metadata": {},
   "outputs": [
    {
     "data": {
      "text/html": [
       "<div>\n",
       "<style scoped>\n",
       "    .dataframe tbody tr th:only-of-type {\n",
       "        vertical-align: middle;\n",
       "    }\n",
       "\n",
       "    .dataframe tbody tr th {\n",
       "        vertical-align: top;\n",
       "    }\n",
       "\n",
       "    .dataframe thead th {\n",
       "        text-align: right;\n",
       "    }\n",
       "</style>\n",
       "<table border=\"1\" class=\"dataframe\">\n",
       "  <thead>\n",
       "    <tr style=\"text-align: right;\">\n",
       "      <th></th>\n",
       "      <th>title</th>\n",
       "      <th>related</th>\n",
       "      <th>out</th>\n",
       "    </tr>\n",
       "  </thead>\n",
       "  <tbody>\n",
       "    <tr>\n",
       "      <th>0</th>\n",
       "      <td>Corinthians se atrapalha em diagnóstico e tent...</td>\n",
       "      <td>no</td>\n",
       "      <td>0</td>\n",
       "    </tr>\n",
       "    <tr>\n",
       "      <th>1</th>\n",
       "      <td>Cidades da região recebem doses que serão usad...</td>\n",
       "      <td>yes</td>\n",
       "      <td>1</td>\n",
       "    </tr>\n",
       "    <tr>\n",
       "      <th>2</th>\n",
       "      <td>Santa Lúcia confirma caso de raiva bovina</td>\n",
       "      <td>yes</td>\n",
       "      <td>1</td>\n",
       "    </tr>\n",
       "    <tr>\n",
       "      <th>3</th>\n",
       "      <td>Vacina antirrábica é aplicada com agendamento ...</td>\n",
       "      <td>yes</td>\n",
       "      <td>1</td>\n",
       "    </tr>\n",
       "    <tr>\n",
       "      <th>4</th>\n",
       "      <td>Divertida Mente 2: Vá da Raiva à Alegria com o...</td>\n",
       "      <td>no</td>\n",
       "      <td>0</td>\n",
       "    </tr>\n",
       "    <tr>\n",
       "      <th>...</th>\n",
       "      <td>...</td>\n",
       "      <td>...</td>\n",
       "      <td>...</td>\n",
       "    </tr>\n",
       "    <tr>\n",
       "      <th>95</th>\n",
       "      <td>VACINAÇÃO CONTRA RAIVA É REALIZADA NO SÁBADO N...</td>\n",
       "      <td>yes</td>\n",
       "      <td>1</td>\n",
       "    </tr>\n",
       "    <tr>\n",
       "      <th>96</th>\n",
       "      <td>Morcegos infectados com raiva são encontrados ...</td>\n",
       "      <td>yes</td>\n",
       "      <td>1</td>\n",
       "    </tr>\n",
       "    <tr>\n",
       "      <th>97</th>\n",
       "      <td>Prefeitura de Montes Claros faz bloqueio contr...</td>\n",
       "      <td>yes</td>\n",
       "      <td>1</td>\n",
       "    </tr>\n",
       "    <tr>\n",
       "      <th>98</th>\n",
       "      <td>Nissan Sentra 2025 foi renovado e mata de raiv...</td>\n",
       "      <td>no</td>\n",
       "      <td>0</td>\n",
       "    </tr>\n",
       "    <tr>\n",
       "      <th>99</th>\n",
       "      <td>Voluntários de resgate ou de abrigos de animai...</td>\n",
       "      <td>yes</td>\n",
       "      <td>1</td>\n",
       "    </tr>\n",
       "  </tbody>\n",
       "</table>\n",
       "<p>100 rows × 3 columns</p>\n",
       "</div>"
      ],
      "text/plain": [
       "                                                title related  out\n",
       "0   Corinthians se atrapalha em diagnóstico e tent...      no    0\n",
       "1   Cidades da região recebem doses que serão usad...     yes    1\n",
       "2           Santa Lúcia confirma caso de raiva bovina     yes    1\n",
       "3   Vacina antirrábica é aplicada com agendamento ...     yes    1\n",
       "4   Divertida Mente 2: Vá da Raiva à Alegria com o...      no    0\n",
       "..                                                ...     ...  ...\n",
       "95  VACINAÇÃO CONTRA RAIVA É REALIZADA NO SÁBADO N...     yes    1\n",
       "96  Morcegos infectados com raiva são encontrados ...     yes    1\n",
       "97  Prefeitura de Montes Claros faz bloqueio contr...     yes    1\n",
       "98  Nissan Sentra 2025 foi renovado e mata de raiv...      no    0\n",
       "99  Voluntários de resgate ou de abrigos de animai...     yes    1\n",
       "\n",
       "[100 rows x 3 columns]"
      ]
     },
     "execution_count": 7,
     "metadata": {},
     "output_type": "execute_result"
    }
   ],
   "source": [
    "df"
   ]
  },
  {
   "cell_type": "code",
   "execution_count": 8,
   "id": "53968c1b-4185-45b4-8eb4-4cb131f1c064",
   "metadata": {},
   "outputs": [
    {
     "name": "stderr",
     "output_type": "stream",
     "text": [
      "2024-06-23 09:16:02.871825: I external/local_tsl/tsl/cuda/cudart_stub.cc:31] Could not find cuda drivers on your machine, GPU will not be used.\n",
      "2024-06-23 09:16:02.908050: E external/local_xla/xla/stream_executor/cuda/cuda_dnn.cc:9261] Unable to register cuDNN factory: Attempting to register factory for plugin cuDNN when one has already been registered\n",
      "2024-06-23 09:16:02.908074: E external/local_xla/xla/stream_executor/cuda/cuda_fft.cc:607] Unable to register cuFFT factory: Attempting to register factory for plugin cuFFT when one has already been registered\n",
      "2024-06-23 09:16:02.909008: E external/local_xla/xla/stream_executor/cuda/cuda_blas.cc:1515] Unable to register cuBLAS factory: Attempting to register factory for plugin cuBLAS when one has already been registered\n",
      "2024-06-23 09:16:02.914411: I external/local_tsl/tsl/cuda/cudart_stub.cc:31] Could not find cuda drivers on your machine, GPU will not be used.\n",
      "2024-06-23 09:16:02.915054: I tensorflow/core/platform/cpu_feature_guard.cc:182] This TensorFlow binary is optimized to use available CPU instructions in performance-critical operations.\n",
      "To enable the following instructions: AVX2 FMA, in other operations, rebuild TensorFlow with the appropriate compiler flags.\n",
      "2024-06-23 09:16:03.656398: W tensorflow/compiler/tf2tensorrt/utils/py_utils.cc:38] TF-TRT Warning: Could not find TensorRT\n"
     ]
    }
   ],
   "source": [
    "from sklearn.preprocessing import LabelEncoder\n",
    "from keras import Sequential\n",
    "from keras.layers import Embedding, Dense, LSTM\n",
    "from keras.utils import pad_sequences\n",
    "import nltk\n",
    "from nltk.stem.snowball import SnowballStemmer\n",
    "import regex as re\n",
    "from nltk.tokenize import sent_tokenize\n",
    "from sklearn.metrics import accuracy_score, confusion_matrix, classification_report\n",
    "from sklearn.model_selection import train_test_split\n",
    "import warnings\n",
    "warnings.filterwarnings('ignore')"
   ]
  },
  {
   "cell_type": "code",
   "execution_count": 9,
   "id": "14c80c6e-b528-42b2-8d18-a01c4a3584b5",
   "metadata": {},
   "outputs": [],
   "source": [
    "from keras.preprocessing.text import one_hot"
   ]
  },
  {
   "cell_type": "code",
   "execution_count": 10,
   "id": "2ab0cab7-6467-4e3f-b438-fffd7cf89d33",
   "metadata": {},
   "outputs": [],
   "source": [
    "text_cleaning = \"\\b0\\S*|\\b[^A-Za-z0-9]+\"\n",
    "def preprocess_filter(text, stem=False):\n",
    "    text = re.sub(text_cleaning, \" \", str(text.lower()).strip())\n",
    "    tokens = []\n",
    "    for token in text.split():\n",
    "        if token not in stop_words:\n",
    "            if stem:\n",
    "                stemmer = SnowballStemmer(language='portuguese')\n",
    "                token = stemmer.stem(token)\n",
    "            tokens.append(token)\n",
    "    return \" \".join(tokens)"
   ]
  },
  {
   "cell_type": "code",
   "execution_count": 11,
   "id": "7d651f82-a887-4f67-9bd2-3e648484e4d0",
   "metadata": {},
   "outputs": [
    {
     "data": {
      "text/plain": [
       "100"
      ]
     },
     "execution_count": 11,
     "metadata": {},
     "output_type": "execute_result"
    }
   ],
   "source": [
    "df['title'].size"
   ]
  },
  {
   "cell_type": "code",
   "execution_count": 13,
   "id": "d3e19960-6dab-480b-8c27-845ad4e180ef",
   "metadata": {},
   "outputs": [
    {
     "name": "stderr",
     "output_type": "stream",
     "text": [
      "[nltk_data] Downloading package stopwords to\n",
      "[nltk_data]     /home/jpantonow/nltk_data...\n",
      "[nltk_data]   Package stopwords is already up-to-date!\n",
      "[nltk_data] Downloading package punkt to /home/jpantonow/nltk_data...\n",
      "[nltk_data]   Package punkt is already up-to-date!\n",
      "[nltk_data] Downloading package wordnet to\n",
      "[nltk_data]     /home/jpantonow/nltk_data...\n",
      "[nltk_data]   Package wordnet is already up-to-date!\n"
     ]
    }
   ],
   "source": [
    "# download some packages\n",
    "from nltk.corpus import stopwords\n",
    "\n",
    "nltk.download('stopwords')\n",
    "nltk.download('punkt')\n",
    "nltk.download('wordnet')\n",
    "\n",
    "stop_words = stopwords.words('portuguese')"
   ]
  },
  {
   "cell_type": "code",
   "execution_count": 17,
   "id": "c32fedcb-3328-4c40-a348-de22abcd0d90",
   "metadata": {},
   "outputs": [
    {
     "name": "stdout",
     "output_type": "stream",
     "text": [
      "longest sentence having length -\n",
      "21\n"
     ]
    }
   ],
   "source": [
    "# longest sentence length\n",
    "def longest_sentence_length(text):\n",
    "    return len(text.split())\n",
    "df['maximum_length'] = df['title'].apply(lambda x: longest_sentence_length(x))\n",
    "print('longest sentence having length -')\n",
    "max_length = max(df['maximum_length'].values)\n",
    "print(max_length)"
   ]
  },
  {
   "cell_type": "code",
   "execution_count": 18,
   "id": "9515696f-344b-47fb-a694-4fda32d0b1c2",
   "metadata": {},
   "outputs": [],
   "source": [
    "size_vocab = df['maximum_length'].sum()"
   ]
  },
  {
   "cell_type": "code",
   "execution_count": 19,
   "id": "84be86be-c3d6-4cfb-8812-fa283abdf730",
   "metadata": {},
   "outputs": [
    {
     "data": {
      "text/plain": [
       "1309"
      ]
     },
     "execution_count": 19,
     "metadata": {},
     "output_type": "execute_result"
    }
   ],
   "source": [
    "size_vocab"
   ]
  },
  {
   "cell_type": "code",
   "execution_count": 20,
   "id": "2e27c2e6-6bd2-4554-afa6-cb1430468fc3",
   "metadata": {},
   "outputs": [],
   "source": [
    "# Word embedding with pre padding\n",
    "def one_hot_encoded(text, vocab_size=size_vocab, max_length=21):\n",
    "    hot_encoded = one_hot(text, vocab_size)\n",
    "    return hot_encoded"
   ]
  },
  {
   "cell_type": "code",
   "execution_count": null,
   "id": "024a7731-06fe-4556-b506-b4a83c4a3648",
   "metadata": {},
   "outputs": [],
   "source": [
    "# # Word embedding with pre padding\n",
    "# def one_hot_encoded(text, vocab_size=5000, max_length=40):\n",
    "#     hot_encoded = to_categorical(text, vocab_size)\n",
    "#     return hot_encoded"
   ]
  },
  {
   "cell_type": "code",
   "execution_count": 21,
   "id": "2090e498-6628-4fb0-9869-ac72e7adf84b",
   "metadata": {},
   "outputs": [],
   "source": [
    "# word embedding pipeline\n",
    "def word_embedding(text):\n",
    "    preprocessed_text = preprocess_filter(text)\n",
    "    return one_hot_encoded(preprocessed_text)"
   ]
  },
  {
   "cell_type": "code",
   "execution_count": 22,
   "id": "b7efc1a2-8e56-438c-80f0-24a4cdda3931",
   "metadata": {},
   "outputs": [
    {
     "name": "stdout",
     "output_type": "stream",
     "text": [
      "Model: \"sequential\"\n",
      "_________________________________________________________________\n",
      " Layer (type)                Output Shape              Param #   \n",
      "=================================================================\n",
      " embedding (Embedding)       (None, 21, 21)            27489     \n",
      "                                                                 \n",
      " lstm (LSTM)                 (None, 10)                1280      \n",
      "                                                                 \n",
      " dense (Dense)               (None, 1)                 11        \n",
      "                                                                 \n",
      "=================================================================\n",
      "Total params: 28780 (112.42 KB)\n",
      "Trainable params: 28780 (112.42 KB)\n",
      "Non-trainable params: 0 (0.00 Byte)\n",
      "_________________________________________________________________\n",
      "None\n"
     ]
    }
   ],
   "source": [
    "from keras.models import Sequential\n",
    "from keras.layers import Embedding, LSTM, Dense\n",
    "\n",
    "embedded_features = 21\n",
    "max_length = 21\n",
    "\n",
    "model = Sequential()\n",
    "model.add(Embedding(size_vocab, embedded_features, input_length=max_length))\n",
    "model.add(LSTM(10))\n",
    "model.add(Dense(1, activation='sigmoid'))\n",
    "model.compile(loss='binary_crossentropy',\n",
    "              optimizer='adam', metrics=['accuracy'])\n",
    "print(model.summary())"
   ]
  },
  {
   "cell_type": "code",
   "execution_count": 23,
   "id": "33a9fd08-ff37-43f6-9dbc-7fca637ea13c",
   "metadata": {},
   "outputs": [],
   "source": [
    "from keras.preprocessing.text import one_hot\n"
   ]
  },
  {
   "cell_type": "code",
   "execution_count": 24,
   "id": "d5fca4fe-cd77-4ce0-aea0-14676b757a71",
   "metadata": {},
   "outputs": [],
   "source": [
    "one_hot_encoded_title = df['title'].apply(lambda x: word_embedding(x)).values\n"
   ]
  },
  {
   "cell_type": "code",
   "execution_count": 25,
   "id": "b0c0c51c-e16a-4fab-8290-cb1e3e7da6b6",
   "metadata": {},
   "outputs": [
    {
     "data": {
      "text/plain": [
       "array([list([60, 1187, 707, 1068, 252, 30, 89]),\n",
       "       list([379, 799, 571, 599, 589, 906, 6, 493, 30, 606, 1276, 1297, 139, 143]),\n",
       "       list([184, 695, 310, 442, 30, 473]),\n",
       "       list([27, 472, 360, 469, 140]),\n",
       "       list([727, 833, 850, 1294, 30, 784, 536, 1183, 173]),\n",
       "       list([271, 425, 239, 974, 30]),\n",
       "       list([27, 472, 232, 482, 982, 254]),\n",
       "       list([822, 621, 758, 621, 199, 1238, 603, 815, 820, 30, 1150, 365, 220]),\n",
       "       list([113, 1118, 136, 38, 460, 30, 1297, 109]),\n",
       "       list([819, 131, 669, 27, 1297, 493, 30, 1153, 1164, 978, 388]),\n",
       "       list([728, 966, 234, 941, 451, 493, 30, 922]),\n",
       "       list([6, 493, 30, 1017, 1143, 127, 334, 113]),\n",
       "       list([770, 30, 1203, 1296, 295, 1302]),\n",
       "       list([154, 38, 807, 30, 67, 1190, 420, 484, 184, 140]),\n",
       "       list([6, 493, 30, 267, 941, 451]),\n",
       "       list([1153, 1164, 148, 6, 472, 629, 735]),\n",
       "       list([30, 743, 1119, 998, 183, 162]),\n",
       "       list([727, 833, 850, 1294, 30, 784, 536, 1183, 173]),\n",
       "       list([1208, 763, 96, 1286, 819, 131, 1282, 10, 460, 30, 221, 819, 131]),\n",
       "       list([420, 863, 1297, 1259, 234, 493, 30, 804, 270]),\n",
       "       list([65, 384, 1236, 558, 329, 30, 67, 915]),\n",
       "       list([560, 756, 121, 30, 75, 978, 711, 415]),\n",
       "       list([338, 1254, 310, 442, 30, 560, 99, 615, 978, 711, 922]),\n",
       "       list([222, 336, 1027, 455, 310, 753, 1102, 30, 135]),\n",
       "       list([1027, 456, 384, 1155, 329, 1302, 123, 30, 107]),\n",
       "       list([258, 30, 1259, 1082, 640, 4, 1210, 781, 1307]),\n",
       "       list([819, 374, 977, 38, 807, 30, 67, 799, 1169, 136, 65]),\n",
       "       list([1194, 125, 1277, 102, 406, 27, 695, 493, 30]),\n",
       "       list([30, 140, 1058, 829, 570, 793, 970, 232]),\n",
       "       list([140, 965, 560, 396, 30, 1058, 280, 793, 365, 220]),\n",
       "       list([318, 30, 1167, 709, 1227, 1082, 849, 44, 1117]),\n",
       "       list([137, 714, 6, 493, 30, 267, 746, 1153, 1164, 999]),\n",
       "       list([131, 669, 156, 1161, 1115, 1297, 493, 30, 927, 1164]),\n",
       "       list([442, 30, 267, 435, 365, 107, 35, 275, 790]),\n",
       "       list([30, 1000, 113, 965, 560, 575, 864, 136, 922]),\n",
       "       list([1024, 1004, 664, 440, 1036, 401, 30, 221]),\n",
       "       list([131, 669, 156, 1161, 709, 1297, 493, 30, 927, 1164]),\n",
       "       list([113, 156, 1154, 27, 493, 30, 702, 78, 497, 237, 35, 113, 636, 177]),\n",
       "       list([395, 177, 576, 1297, 223, 139, 974, 493, 30]),\n",
       "       list([819, 131, 27, 941, 451, 493, 30, 1153, 1164, 669]),\n",
       "       list([518, 1257, 21, 829, 6, 493, 30, 221, 420, 131, 267, 364]),\n",
       "       list([714, 956, 30, 728, 974, 232]),\n",
       "       list([113, 965, 1192, 442, 30, 560, 232]),\n",
       "       list([30, 728, 239, 974, 377, 480, 784]),\n",
       "       list([442, 348, 821, 575, 30, 529, 38, 10, 186, 121, 1076, 554]),\n",
       "       list([1302, 881, 30, 175, 63, 964]),\n",
       "       list([113, 669, 1183, 1043, 792, 6, 493, 30, 267]),\n",
       "       list([922, 310, 557, 442, 560, 396, 30]),\n",
       "       list([714, 874, 746, 1153, 1164, 6, 493, 30, 941, 451]),\n",
       "       list([560, 756, 30, 75, 338, 1254]),\n",
       "       list([406, 310, 442, 30, 473]),\n",
       "       list([30, 1199, 1296, 71, 594, 273, 232]),\n",
       "       list([560, 30, 75, 1000, 482, 232, 1308, 993]),\n",
       "       list([6, 493, 30, 1238, 605, 864, 846, 150, 664, 699]),\n",
       "       list([30, 221, 435, 815, 974]),\n",
       "       list([1208, 30, 955, 1280, 11, 311, 798, 857, 499, 154, 1307]),\n",
       "       list([829, 155, 687, 1066, 637, 30]),\n",
       "       list([1307, 455, 1141, 348, 442, 821, 575, 30, 437, 1000]),\n",
       "       list([961, 204, 35, 131, 961, 619, 209, 35, 714, 956, 493, 30, 340, 727, 131, 528]),\n",
       "       list([27, 493, 30, 742, 516, 1082, 158]),\n",
       "       list([1072, 1004, 1258, 234, 941, 451, 493, 30, 1153, 1164, 209, 113, 127, 626, 845]),\n",
       "       list([281, 384, 1155, 329, 30, 1302, 304, 318, 819, 131]),\n",
       "       list([1188, 39, 96, 1277, 1276, 659, 351, 414, 527, 326, 787, 960]),\n",
       "       list([867, 379, 1307, 1275, 499, 279, 834, 704, 1084, 30, 728]),\n",
       "       list([193, 1106, 759, 1304, 678, 1064, 493, 30, 221, 113, 127, 626, 845]),\n",
       "       list([560, 30, 535, 113, 1000, 391, 864, 136, 906, 38, 671, 799]),\n",
       "       list([1198, 673, 1268, 6, 941, 451, 493, 30, 1139, 530]),\n",
       "       list([434, 845, 1183, 376, 47, 10, 155, 460, 30, 221]),\n",
       "       list([155, 1141, 759, 388, 1302, 881, 30, 338]),\n",
       "       list([38, 10, 406, 442, 350, 30, 699, 285]),\n",
       "       list([820, 30, 467, 1096, 1229, 144, 464, 991]),\n",
       "       list([714, 956, 517, 30, 410, 624, 439, 460, 570, 493, 232]),\n",
       "       list([1079, 490, 6, 493, 30, 1156, 1157, 195]),\n",
       "       list([560, 30, 535, 1000, 482, 1296, 131]),\n",
       "       list([281, 384, 491, 442, 30, 560, 304, 318, 562]),\n",
       "       list([669, 1303, 1163, 144, 609, 30]),\n",
       "       list([158, 88, 1076, 1149, 1284, 249, 589, 254, 10, 232, 30]),\n",
       "       list([6, 493, 30, 941, 451, 265, 1164, 714, 1188, 327, 562]),\n",
       "       list([579, 470, 941, 451, 191, 493, 30, 683, 1159, 113, 127, 626, 845]),\n",
       "       list([707, 30, 890, 97, 1027, 456]), list([30, 59, 162, 131, 207]),\n",
       "       list([819, 131, 21, 25, 10, 200, 460, 30, 221]),\n",
       "       list([263, 558, 1302, 881, 30, 1000]),\n",
       "       list([140, 965, 1302, 123, 30, 1058, 280, 365, 291]),\n",
       "       list([141, 30, 183, 289, 1280, 1235, 1270]),\n",
       "       list([1307, 1275, 499, 811, 1030, 1057, 30]),\n",
       "       list([391, 1282, 125, 1277, 1102, 695, 493, 30, 109]),\n",
       "       list([560, 30, 535, 1000, 482, 1296, 131]),\n",
       "       list([1051, 848, 457, 335, 1187, 616, 155, 30]),\n",
       "       list([819, 374, 38, 10, 295, 460, 493, 30, 1297, 109, 35, 113]),\n",
       "       list([560, 1071, 165, 664, 30, 20, 38, 267, 615, 574, 232, 482, 71]),\n",
       "       list([853, 829, 6, 493, 30, 267, 1253, 669, 746, 714, 1188, 107]),\n",
       "       list([374, 977, 38, 807, 30, 67, 799, 1169, 136, 65]),\n",
       "       list([819, 131, 310, 280, 329, 30, 1302]),\n",
       "       list([442, 30, 560, 435, 928, 339]),\n",
       "       list([6, 493, 30, 54, 1164, 799, 324, 412]),\n",
       "       list([1302, 881, 30, 175, 964, 242]),\n",
       "       list([113, 29, 988, 462, 1119, 493, 30, 603, 442, 396, 560]),\n",
       "       list([533, 203, 34, 834, 783, 30, 281, 50]),\n",
       "       list([395, 177, 576, 1297, 139, 974, 493, 30])], dtype=object)"
      ]
     },
     "execution_count": 25,
     "metadata": {},
     "output_type": "execute_result"
    }
   ],
   "source": [
    "one_hot_encoded_title"
   ]
  },
  {
   "cell_type": "code",
   "execution_count": 26,
   "id": "2772d7d3-49cf-4fb9-9d3c-97035331d7fb",
   "metadata": {},
   "outputs": [],
   "source": [
    "# padding to make the size equal of the sequences\n",
    "padded_encoded_title = pad_sequences(\n",
    "    one_hot_encoded_title, maxlen=max_length, padding='pre')"
   ]
  },
  {
   "cell_type": "code",
   "execution_count": 27,
   "id": "b6732c89-7c26-4b38-8bbb-25c57af1c66f",
   "metadata": {},
   "outputs": [],
   "source": [
    "import numpy as np"
   ]
  },
  {
   "cell_type": "code",
   "execution_count": 28,
   "id": "8a333315-ba6e-4ae3-8807-64cc7550c995",
   "metadata": {},
   "outputs": [
    {
     "name": "stdout",
     "output_type": "stream",
     "text": [
      "(100, 21)\n",
      "(100,)\n"
     ]
    }
   ],
   "source": [
    "# Splitting\n",
    "X = padded_encoded_title\n",
    "y = df['out'].values\n",
    "y = np.array(y)\n",
    "\n",
    "# shapes\n",
    "print(X.shape)\n",
    "print(y.shape)"
   ]
  },
  {
   "cell_type": "code",
   "execution_count": null,
   "id": "2242698b-8fa8-40d2-85dc-5d12cbaeb8bb",
   "metadata": {},
   "outputs": [],
   "source": [
    "X"
   ]
  },
  {
   "cell_type": "code",
   "execution_count": null,
   "id": "490ff1a5",
   "metadata": {},
   "outputs": [],
   "source": [
    "y"
   ]
  },
  {
   "cell_type": "code",
   "execution_count": 29,
   "id": "819cfbc0-425c-41b9-a223-0c91548a873f",
   "metadata": {},
   "outputs": [
    {
     "name": "stdout",
     "output_type": "stream",
     "text": [
      "X train shape (75, 21)\n",
      "X test shape (25, 21)\n",
      "y train shape (75,)\n",
      "y test shape (25,)\n"
     ]
    }
   ],
   "source": [
    "X_train, X_test, y_train, y_test = train_test_split(X, y, random_state=5)\n",
    "\n",
    "# Shape and size of train and test dataset\n",
    "print('X train shape {}'.format(X_train.shape))\n",
    "print('X test shape {}'.format(X_test.shape))\n",
    "print('y train shape {}'.format(y_train.shape))\n",
    "print('y test shape {}'.format(y_test.shape))"
   ]
  },
  {
   "cell_type": "code",
   "execution_count": 30,
   "id": "263e9c7e-0fe7-44b7-abaa-5b18fc74fdc4",
   "metadata": {},
   "outputs": [
    {
     "name": "stdout",
     "output_type": "stream",
     "text": [
      "Epoch 1/10\n",
      "19/19 [==============================] - 2s 26ms/step - loss: 0.6770 - accuracy: 0.8533 - val_loss: 0.6476 - val_accuracy: 0.9200\n",
      "Epoch 2/10\n",
      "19/19 [==============================] - 0s 6ms/step - loss: 0.6260 - accuracy: 0.8267 - val_loss: 0.5628 - val_accuracy: 0.9200\n",
      "Epoch 3/10\n",
      "19/19 [==============================] - 0s 5ms/step - loss: 0.5298 - accuracy: 0.8267 - val_loss: 0.3988 - val_accuracy: 0.9200\n",
      "Epoch 4/10\n",
      "19/19 [==============================] - 0s 6ms/step - loss: 0.4339 - accuracy: 0.8267 - val_loss: 0.2975 - val_accuracy: 0.9200\n",
      "Epoch 5/10\n",
      "19/19 [==============================] - 0s 6ms/step - loss: 0.3890 - accuracy: 0.8267 - val_loss: 0.2788 - val_accuracy: 0.9200\n",
      "Epoch 6/10\n",
      "19/19 [==============================] - 0s 6ms/step - loss: 0.3373 - accuracy: 0.8267 - val_loss: 0.2526 - val_accuracy: 0.9200\n",
      "Epoch 7/10\n",
      "19/19 [==============================] - 0s 6ms/step - loss: 0.2769 - accuracy: 0.8267 - val_loss: 0.2054 - val_accuracy: 0.9200\n",
      "Epoch 8/10\n",
      "19/19 [==============================] - 0s 6ms/step - loss: 0.2170 - accuracy: 0.8667 - val_loss: 0.1601 - val_accuracy: 0.9200\n",
      "Epoch 9/10\n",
      "19/19 [==============================] - 0s 8ms/step - loss: 0.1723 - accuracy: 0.9333 - val_loss: 0.1341 - val_accuracy: 0.9600\n",
      "Epoch 10/10\n",
      "19/19 [==============================] - 0s 6ms/step - loss: 0.1437 - accuracy: 0.9733 - val_loss: 0.1136 - val_accuracy: 0.9600\n"
     ]
    }
   ],
   "source": [
    "history= model.fit(X_train, y_train, validation_data=(\n",
    "    X_test, y_test), epochs=10, batch_size=4)"
   ]
  },
  {
   "cell_type": "code",
   "execution_count": 72,
   "id": "2fa75ea5-e0bf-4151-8a89-a6beba2c7900",
   "metadata": {},
   "outputs": [],
   "source": [
    "def predict(text):\n",
    "    encoded = word_embedding(text)\n",
    "    padded_encoded_title = pad_sequences(\n",
    "        [encoded], maxlen=max_length, padding='pre')\n",
    "    output = model.predict(padded_encoded_title)\n",
    "    print(output)\n",
    "    output = np.where(output >= 0.85, 1, 0)\n",
    "    if output[0][0] == 1:\n",
    "        return 'Relacionado ao tema'\n",
    "    return 'Não relacionado ao tema'"
   ]
  },
  {
   "cell_type": "code",
   "execution_count": 73,
   "id": "161e68b6-b840-475a-8d1e-c7acbf67e84c",
   "metadata": {},
   "outputs": [
    {
     "name": "stdout",
     "output_type": "stream",
     "text": [
      "1/1 [==============================] - 0s 16ms/step\n",
      "[[0.6916496]]\n"
     ]
    },
    {
     "data": {
      "text/plain": [
       "'Não relacionado ao tema'"
      ]
     },
     "execution_count": 73,
     "metadata": {},
     "output_type": "execute_result"
    }
   ],
   "source": [
    "predict('oi')"
   ]
  },
  {
   "cell_type": "code",
   "execution_count": 74,
   "id": "83c4f2dd-a047-4eba-836f-6d06c5ffdeaf",
   "metadata": {},
   "outputs": [
    {
     "name": "stdout",
     "output_type": "stream",
     "text": [
      "1/1 [==============================] - 0s 16ms/step\n",
      "[[0.6922663]]\n"
     ]
    },
    {
     "data": {
      "text/plain": [
       "'Não relacionado ao tema'"
      ]
     },
     "execution_count": 74,
     "metadata": {},
     "output_type": "execute_result"
    }
   ],
   "source": [
    "predict('raiva corinthians')"
   ]
  },
  {
   "cell_type": "code",
   "execution_count": 75,
   "id": "9d59cbfc-d8e7-4569-98cd-7e2518029808",
   "metadata": {},
   "outputs": [
    {
     "name": "stdout",
     "output_type": "stream",
     "text": [
      "1/1 [==============================] - 0s 16ms/step\n",
      "[[0.77842915]]\n"
     ]
    },
    {
     "data": {
      "text/plain": [
       "'Não relacionado ao tema'"
      ]
     },
     "execution_count": 75,
     "metadata": {},
     "output_type": "execute_result"
    }
   ],
   "source": [
    "predict('raiva do caralho')"
   ]
  },
  {
   "cell_type": "code",
   "execution_count": 76,
   "id": "aa385f40-ba38-42af-9c3e-2b90db378fcc",
   "metadata": {},
   "outputs": [
    {
     "name": "stdout",
     "output_type": "stream",
     "text": [
      "1/1 [==============================] - 0s 19ms/step\n",
      "[[0.9097004]]\n"
     ]
    },
    {
     "data": {
      "text/plain": [
       "'Relacionado ao tema'"
      ]
     },
     "execution_count": 76,
     "metadata": {},
     "output_type": "execute_result"
    }
   ],
   "source": [
    "predict('Vacina antirrábica é aplicada ')"
   ]
  },
  {
   "cell_type": "code",
   "execution_count": 77,
   "id": "bab09389-790d-439a-b87d-40a7e56942d9",
   "metadata": {},
   "outputs": [
    {
     "name": "stdout",
     "output_type": "stream",
     "text": [
      "1/1 [==============================] - 0s 17ms/step\n",
      "[[0.8266267]]\n"
     ]
    },
    {
     "data": {
      "text/plain": [
       "'Não relacionado ao tema'"
      ]
     },
     "execution_count": 77,
     "metadata": {},
     "output_type": "execute_result"
    }
   ],
   "source": [
    "predict('policial tem surto de raiva')"
   ]
  },
  {
   "cell_type": "code",
   "execution_count": 78,
   "id": "45c3200a",
   "metadata": {},
   "outputs": [
    {
     "name": "stdout",
     "output_type": "stream",
     "text": [
      "1/1 [==============================] - 0s 16ms/step\n",
      "[[0.9483973]]\n"
     ]
    },
    {
     "data": {
      "text/plain": [
       "'Relacionado ao tema'"
      ]
     },
     "execution_count": 78,
     "metadata": {},
     "output_type": "execute_result"
    }
   ],
   "source": [
    "predict('Vacina antirrábica é aplicada com agendamento na VISAM')"
   ]
  },
  {
   "cell_type": "code",
   "execution_count": 79,
   "id": "07a5ca3f-87c8-4107-8411-a7e9235f4d0e",
   "metadata": {},
   "outputs": [
    {
     "name": "stdout",
     "output_type": "stream",
     "text": [
      "1/1 [==============================] - 0s 17ms/step\n",
      "[[0.85924757]]\n"
     ]
    },
    {
     "data": {
      "text/plain": [
       "'Relacionado ao tema'"
      ]
     },
     "execution_count": 79,
     "metadata": {},
     "output_type": "execute_result"
    }
   ],
   "source": [
    "predict('morcego com raiva é detectado')"
   ]
  },
  {
   "cell_type": "code",
   "execution_count": 80,
   "id": "7b486ed3",
   "metadata": {},
   "outputs": [
    {
     "name": "stdout",
     "output_type": "stream",
     "text": [
      "1/1 [==============================] - 0s 16ms/step\n",
      "[[0.9704852]]\n"
     ]
    },
    {
     "data": {
      "text/plain": [
       "'Relacionado ao tema'"
      ]
     },
     "execution_count": 80,
     "metadata": {},
     "output_type": "execute_result"
    }
   ],
   "source": [
    "predict('Secretaria de Saúde de Indaiatuba vacina animais contra raiva neste sábado no bairro Tombadouro')"
   ]
  },
  {
   "cell_type": "code",
   "execution_count": 85,
   "id": "24a10d0d-8663-4ef9-ba85-390254a9668b",
   "metadata": {},
   "outputs": [
    {
     "name": "stdout",
     "output_type": "stream",
     "text": [
      "1/1 [==============================] - 0s 16ms/step\n",
      "[[0.6890552]]\n"
     ]
    },
    {
     "data": {
      "text/plain": [
       "'Não relacionado ao tema'"
      ]
     },
     "execution_count": 85,
     "metadata": {},
     "output_type": "execute_result"
    }
   ],
   "source": [
    "predict('Jovem mata mãe em surto de raiva')"
   ]
  }
 ],
 "metadata": {
  "kernelspec": {
   "display_name": "Python (testenv)",
   "language": "python",
   "name": "testenv"
  },
  "language_info": {
   "codemirror_mode": {
    "name": "ipython",
    "version": 3
   },
   "file_extension": ".py",
   "mimetype": "text/x-python",
   "name": "python",
   "nbconvert_exporter": "python",
   "pygments_lexer": "ipython3",
   "version": "3.11.5"
  }
 },
 "nbformat": 4,
 "nbformat_minor": 5
}
